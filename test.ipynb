{
 "cells": [
  {
   "cell_type": "code",
   "execution_count": 48,
   "metadata": {},
   "outputs": [],
   "source": [
    "import requests\n",
    "import json\n",
    "\n",
    "def register_player(base_url, register_dto):\n",
    "    url = f\"{base_url}/player/register\"\n",
    "    headers = {'Content-Type': 'application/json'}\n",
    "    response = requests.post(url, headers=headers, data=json.dumps(register_dto))\n",
    "    \n",
    "    if response.status_code == 200:\n",
    "        return response.json()\n",
    "    elif response.status_code == 204:\n",
    "        raise Exception(\"User with the same username or email address already exists\")\n",
    "    elif response.status_code == 400:\n",
    "        raise Exception(\"Bad Request\")\n",
    "    elif response.status_code == 500:\n",
    "        raise Exception(\"Server Error\")\n",
    "    else:\n",
    "        response.raise_for_status()"
   ]
  },
  {
   "cell_type": "code",
   "execution_count": 251,
   "metadata": {},
   "outputs": [],
   "source": [
    "def login_player(base_url, login_dto):\n",
    "    url = f\"{base_url}/player/login\"\n",
    "    headers = {'Content-Type': 'application/json'}\n",
    "    response = requests.post(url, headers=headers, data=json.dumps(login_dto))\n",
    "    \n",
    "    if response.status_code == 200:\n",
    "        return response.json()\n",
    "    elif response.status_code == 204:\n",
    "        raise Exception(\"User credentials do not match\")\n",
    "    elif response.status_code == 500:\n",
    "        raise Exception(\"Server Error\")\n",
    "    else:\n",
    "        response.raise_for_status()"
   ]
  },
  {
   "cell_type": "code",
   "execution_count": 80,
   "metadata": {},
   "outputs": [],
   "source": [
    "def create_single_player_game(base_url, username):\n",
    "    url = f\"{base_url}/game/createSinglePlayer\"\n",
    "    params = {'username': username}\n",
    "    headers = {'Content-Type': 'application/json'}\n",
    "    response = requests.post(url, headers=headers, params=params)\n",
    "    \n",
    "    if response.status_code == 200:\n",
    "        return response.json()\n",
    "    else:\n",
    "        response.raise_for_status()"
   ]
  },
  {
   "cell_type": "code",
   "execution_count": 103,
   "metadata": {},
   "outputs": [],
   "source": [
    "def join_existing_game(base_url, username):\n",
    "    url = f\"{base_url}/game/joinExistingGame\"\n",
    "    params = {'username': username}\n",
    "    headers = {'Content-Type': 'application/json'}\n",
    "    response = requests.post(url, headers=headers, params=params)\n",
    "    \n",
    "    if response.status_code == 200:\n",
    "        return response.json()\n",
    "    elif response.status_code == 400:\n",
    "        raise Exception(response.text)\n",
    "    elif response.status_code == 404:\n",
    "        raise Exception(response.text)\n",
    "    else:\n",
    "        response.raise_for_status()"
   ]
  },
  {
   "cell_type": "code",
   "execution_count": 175,
   "metadata": {},
   "outputs": [],
   "source": [
    "def player_move(base_url, game_id, move_type, edge_or_node_index, player_no):\n",
    "    url = f\"{base_url}/game/playerMove\"\n",
    "    data = {\n",
    "        \"gameID\": game_id,\n",
    "        \"moveType\": move_type,\n",
    "        \"edgeOrNodeIndex\": edge_or_node_index,\n",
    "        \"playerNo\": player_no\n",
    "    }\n",
    "    response = requests.post(url, data=data)\n",
    "    \n",
    "    if response.status_code == 200:\n",
    "        return response.json()\n",
    "    elif response.status_code == 204:\n",
    "        raise Exception(\"It's not the player's turn\")\n",
    "    elif response.status_code == 205:\n",
    "        raise Exception(\"Not enough resources\")\n",
    "    elif response.status_code == 206:\n",
    "        raise Exception(\"Not an appropriate location\")\n",
    "    elif response.status_code == 207:\n",
    "        raise Exception(\"Can't upgrade the settlement\")\n",
    "    elif response.status_code == 208:\n",
    "        raise Exception(\"Can't roll the dice more than once for a turn\")\n",
    "    elif response.status_code == 209:\n",
    "        raise Exception(\"Can't end turn without rolling a dice\")\n",
    "    elif response.status_code == 210:\n",
    "        raise Exception(\"Game over\")\n",
    "    elif response.status_code == 404:\n",
    "        raise Exception(\"Game not found\")\n",
    "    elif response.status_code == 500:\n",
    "        raise Exception(\"Server Error\")\n",
    "    else:\n",
    "        response.raise_for_status()"
   ]
  },
  {
   "cell_type": "code",
   "execution_count": 124,
   "metadata": {},
   "outputs": [],
   "source": [
    "def delete_game(base_url, game_id):\n",
    "    url = f\"{base_url}/game/{game_id}\"\n",
    "    headers = {'Content-Type': 'application/json'}\n",
    "    response = requests.delete(url, headers=headers)\n",
    "    \n",
    "    if response.status_code == 200:\n",
    "        return response.json()\n",
    "    elif response.status_code == 400:\n",
    "        raise Exception(\"Bad request, 'id' was not provided\")\n",
    "    elif response.status_code == 500:\n",
    "        raise Exception(\"Not found record with that id or Internal server error\")\n",
    "    else:\n",
    "        response.raise_for_status()"
   ]
  },
  {
   "cell_type": "code",
   "execution_count": 206,
   "metadata": {},
   "outputs": [],
   "source": [
    "def print_game_id(game):\n",
    "    print(f\"Game ID: {game['gameID']}\")\n",
    "\n",
    "def print_settlements(game):\n",
    "    for settlement in game['gameboard']['settlements']:\n",
    "        print(f\"Settlement ID: {settlement['settlementID']}, Node Index: {settlement['nodeIndex']}, Player No: {settlement['playerNo']}, Settlement Level: {settlement['settlementLevel']}\")\n",
    "\n",
    "def print_roads(game):\n",
    "    for road in game['gameboard']['roads']:\n",
    "        print(f\"Road ID: {road['roadID']}, Edge Index: {road['edgeIndex']}, Player No: {road['playerNo']}\")\n",
    "\n",
    "def print_tiles(game):\n",
    "    for tile in game['gameboard']['tiles']:\n",
    "        print(f\"Tile ID: {tile['tileID']}, Tile Index: {tile['tileIndex']}, Tile Type: {tile['tileType']}, Tile Number: {tile['tileNumber']}\")\n",
    "\n",
    "def print_player_info(game, player_no):\n",
    "    player_key = f\"player{player_no}\"\n",
    "    if game[player_key] is not None:\n",
    "        print(f\"Player {player_no} ID: {game[player_key]['playerID']}, Username: {game[player_key]['username']}, Email: {game[player_key]['email']}\")\n",
    "    else:\n",
    "        print(f\"Player {player_no} is not in the game.\")\n",
    "\n",
    "def print_player_score(game, player_no):\n",
    "    score_key = f\"player{player_no}Score\"\n",
    "    print(f\"Player {player_no} Score: {game[score_key]}\")"
   ]
  },
  {
   "cell_type": "code",
   "execution_count": 220,
   "metadata": {},
   "outputs": [],
   "source": [
    "def print_player_resources(game, player_no):\n",
    "    if 'playerCardDeckList' in game:\n",
    "        if len(game['playerCardDeckList']) >= player_no:  # Check if player_no is valid\n",
    "            print(f\"Player {player_no} Resources:\")\n",
    "            deck = game['playerCardDeckList'][player_no - 1]  # player_no - 1 because list indices start at 0\n",
    "            for card in deck['cards']:\n",
    "                print(f\"{card['cardType']}: {card['cardCount']}\")\n",
    "        else:\n",
    "            print(f\"No resource information found for Player {player_no}.\")\n",
    "    else:\n",
    "        print(\"No resources found.\")"
   ]
  },
  {
   "cell_type": "code",
   "execution_count": 242,
   "metadata": {},
   "outputs": [
    {
     "name": "stdout",
     "output_type": "stream",
     "text": [
      "{'playerID': 3, 'username': 'testuser', 'email': 'testuser@example.com', 'password': '5e884898da28047151d0e56f8dc6292773603d0d6aabbdd62a11ef721d1542d8', 'sessionKey': None, 'resetKey': None}\n"
     ]
    }
   ],
   "source": [
    "register_dto = {\n",
    "    \"username\": \"testuser\",\n",
    "    \"email\": \"testuser@example.com\",\n",
    "    \"password\": \"password\"\n",
    "}\n",
    "\n",
    "try:\n",
    "    player = register_player(\"http://localhost:8080\", register_dto)\n",
    "    print(player)\n",
    "except Exception as e:\n",
    "    print(str(e))"
   ]
  },
  {
   "cell_type": "code",
   "execution_count": 258,
   "metadata": {},
   "outputs": [
    {
     "name": "stdout",
     "output_type": "stream",
     "text": [
      "{'playerID': 3, 'username': 'testuser', 'email': 'testuser@example.com', 'password': '5e884898da28047151d0e56f8dc6292773603d0d6aabbdd62a11ef721d1542d8', 'sessionKey': '63199d9a-6518-4f36-9335-2fc04ce06f75', 'resetKey': None}\n"
     ]
    }
   ],
   "source": [
    "login_dto = {\n",
    "    \"username\": \"testuser\",\n",
    "    \"password\": \"password\"\n",
    "}\n",
    "\n",
    "try:\n",
    "    player = login_player(\"http://localhost:8080\", login_dto)\n",
    "    print(player)\n",
    "except Exception as e:\n",
    "    print(str(e))"
   ]
  },
  {
   "cell_type": "code",
   "execution_count": 259,
   "metadata": {},
   "outputs": [
    {
     "name": "stdout",
     "output_type": "stream",
     "text": [
      "Game ID: 6\n",
      "{'gameID': 6, 'gameboard': {'id': 6, 'settlements': [{'settlementID': 27, 'nodeIndex': 36, 'playerNo': 1, 'settlementLevel': 1}, {'settlementID': 28, 'nodeIndex': 20, 'playerNo': 2, 'settlementLevel': 1}, {'settlementID': 29, 'nodeIndex': 11, 'playerNo': 3, 'settlementLevel': 1}, {'settlementID': 30, 'nodeIndex': 53, 'playerNo': 4, 'settlementLevel': 1}], 'roads': [{'roadID': 42, 'edgeIndex': 45, 'playerNo': 1}, {'roadID': 43, 'edgeIndex': 32, 'playerNo': 2}, {'roadID': 44, 'edgeIndex': 18, 'playerNo': 3}, {'roadID': 45, 'edgeIndex': 70, 'playerNo': 4}], 'tiles': [{'tileID': 96, 'tileIndex': 0, 'tileType': 'MOUNTAINS', 'tileNumber': 12}, {'tileID': 97, 'tileIndex': 1, 'tileType': 'MOUNTAINS', 'tileNumber': 8}, {'tileID': 98, 'tileIndex': 2, 'tileType': 'PASTURES', 'tileNumber': 9}, {'tileID': 99, 'tileIndex': 3, 'tileType': 'PASTURES', 'tileNumber': 9}, {'tileID': 100, 'tileIndex': 4, 'tileType': 'FOREST', 'tileNumber': 10}, {'tileID': 101, 'tileIndex': 5, 'tileType': 'HILLS', 'tileNumber': 6}, {'tileID': 102, 'tileIndex': 6, 'tileType': 'HILLS', 'tileNumber': 8}, {'tileID': 103, 'tileIndex': 7, 'tileType': 'HILLS', 'tileNumber': 2}, {'tileID': 104, 'tileIndex': 8, 'tileType': 'FOREST', 'tileNumber': 3}, {'tileID': 105, 'tileIndex': 9, 'tileType': 'DESERT', 'tileNumber': 0}, {'tileID': 106, 'tileIndex': 10, 'tileType': 'FOREST', 'tileNumber': 3}, {'tileID': 107, 'tileIndex': 11, 'tileType': 'MOUNTAINS', 'tileNumber': 5}, {'tileID': 108, 'tileIndex': 12, 'tileType': 'FIELDS', 'tileNumber': 11}, {'tileID': 109, 'tileIndex': 13, 'tileType': 'MOUNTAINS', 'tileNumber': 4}, {'tileID': 110, 'tileIndex': 14, 'tileType': 'FIELDS', 'tileNumber': 10}, {'tileID': 111, 'tileIndex': 15, 'tileType': 'FIELDS', 'tileNumber': 6}, {'tileID': 112, 'tileIndex': 16, 'tileType': 'FIELDS', 'tileNumber': 11}, {'tileID': 113, 'tileIndex': 17, 'tileType': 'PASTURES', 'tileNumber': 4}, {'tileID': 114, 'tileIndex': 18, 'tileType': 'PASTURES', 'tileNumber': 5}], 'player1Roads': [{'roadID': 42, 'edgeIndex': 45, 'playerNo': 1}], 'player2Roads': [{'roadID': 43, 'edgeIndex': 32, 'playerNo': 2}], 'player3Roads': [{'roadID': 44, 'edgeIndex': 18, 'playerNo': 3}], 'player4Roads': [{'roadID': 45, 'edgeIndex': 70, 'playerNo': 4}], 'player1Settlements': [{'settlementID': 27, 'nodeIndex': 36, 'playerNo': 1, 'settlementLevel': 1}], 'player2Settlements': [{'settlementID': 28, 'nodeIndex': 20, 'playerNo': 2, 'settlementLevel': 1}], 'player3Settlements': [{'settlementID': 29, 'nodeIndex': 11, 'playerNo': 3, 'settlementLevel': 1}], 'player4Settlements': [{'settlementID': 30, 'nodeIndex': 53, 'playerNo': 4, 'settlementLevel': 1}], 'forbiddenNodeIndices': [36, 7, 41, 11, 15, 16, 49, 50, 20, 53, 25, 26, 30, 31]}, 'player1': {'playerID': 3, 'username': 'testuser', 'email': 'testuser@example.com', 'password': '5e884898da28047151d0e56f8dc6292773603d0d6aabbdd62a11ef721d1542d8', 'sessionKey': '63199d9a-6518-4f36-9335-2fc04ce06f75', 'resetKey': None}, 'player2': None, 'player3': None, 'player4': None, 'player1Score': 1, 'player2Score': 1, 'player3Score': 1, 'player4Score': 1, 'turn': 1, 'gameType': 'SinglePlayer', 'currentDice1': None, 'currentDice2': None, 'playerCardDeckList': [{'deckID': 21, 'cards': [{'cardID': 101, 'cardType': 'BRICK', 'cardCount': 3}, {'cardID': 102, 'cardType': 'LUMBER', 'cardCount': 4}, {'cardID': 103, 'cardType': 'ORE', 'cardCount': 0}, {'cardID': 104, 'cardType': 'GRAIN', 'cardCount': 3}, {'cardID': 105, 'cardType': 'WOOL', 'cardCount': 1}], 'resourceCounts': {'WOOL': 1, 'GRAIN': 3, 'BRICK': 3, 'LUMBER': 4, 'ORE': 0}}, {'deckID': 22, 'cards': [{'cardID': 106, 'cardType': 'BRICK', 'cardCount': 4}, {'cardID': 107, 'cardType': 'LUMBER', 'cardCount': 3}, {'cardID': 108, 'cardType': 'ORE', 'cardCount': 1}, {'cardID': 109, 'cardType': 'GRAIN', 'cardCount': 1}, {'cardID': 110, 'cardType': 'WOOL', 'cardCount': 1}], 'resourceCounts': {'WOOL': 1, 'GRAIN': 1, 'BRICK': 4, 'LUMBER': 3, 'ORE': 1}}, {'deckID': 23, 'cards': [{'cardID': 111, 'cardType': 'BRICK', 'cardCount': 3}, {'cardID': 112, 'cardType': 'LUMBER', 'cardCount': 3}, {'cardID': 113, 'cardType': 'ORE', 'cardCount': 0}, {'cardID': 114, 'cardType': 'GRAIN', 'cardCount': 1}, {'cardID': 115, 'cardType': 'WOOL', 'cardCount': 2}], 'resourceCounts': {'WOOL': 2, 'GRAIN': 1, 'BRICK': 3, 'LUMBER': 3, 'ORE': 0}}, {'deckID': 24, 'cards': [{'cardID': 116, 'cardType': 'BRICK', 'cardCount': 3}, {'cardID': 117, 'cardType': 'LUMBER', 'cardCount': 3}, {'cardID': 118, 'cardType': 'ORE', 'cardCount': 0}, {'cardID': 119, 'cardType': 'GRAIN', 'cardCount': 1}, {'cardID': 120, 'cardType': 'WOOL', 'cardCount': 2}], 'resourceCounts': {'WOOL': 2, 'GRAIN': 1, 'BRICK': 3, 'LUMBER': 3, 'ORE': 0}}], 'currentLongestRoadLength': 0, 'currentLongestRoadOwnerPlayerNo': 0, 'diceRolled': False}\n"
     ]
    }
   ],
   "source": [
    "try:\n",
    "    game = create_single_player_game(\"http://localhost:8080\", \"testuser\")\n",
    "    game_id = game['gameID']\n",
    "    print(f\"Game ID: {game_id}\")\n",
    "    print(game)\n",
    "except requests.exceptions.HTTPError as http_err:\n",
    "    print(f\"HTTP error occurred: {http_err}\")\n",
    "    print(f\"Response body: {http_err.response.text}\")\n",
    "except Exception as err:\n",
    "    print(f\"An error occurred: {err}\")"
   ]
  },
  {
   "cell_type": "code",
   "execution_count": 260,
   "metadata": {},
   "outputs": [
    {
     "name": "stdout",
     "output_type": "stream",
     "text": [
      "Game ID: 6\n",
      "{'gameID': 6, 'gameboard': {'id': 6, 'settlements': [{'settlementID': 27, 'nodeIndex': 36, 'playerNo': 1, 'settlementLevel': 1}, {'settlementID': 28, 'nodeIndex': 20, 'playerNo': 2, 'settlementLevel': 1}, {'settlementID': 29, 'nodeIndex': 11, 'playerNo': 3, 'settlementLevel': 1}, {'settlementID': 30, 'nodeIndex': 53, 'playerNo': 4, 'settlementLevel': 1}], 'roads': [{'roadID': 42, 'edgeIndex': 45, 'playerNo': 1}, {'roadID': 43, 'edgeIndex': 32, 'playerNo': 2}, {'roadID': 44, 'edgeIndex': 18, 'playerNo': 3}, {'roadID': 45, 'edgeIndex': 70, 'playerNo': 4}], 'tiles': [{'tileID': 96, 'tileIndex': 0, 'tileType': 'MOUNTAINS', 'tileNumber': 12}, {'tileID': 97, 'tileIndex': 1, 'tileType': 'MOUNTAINS', 'tileNumber': 8}, {'tileID': 98, 'tileIndex': 2, 'tileType': 'PASTURES', 'tileNumber': 9}, {'tileID': 99, 'tileIndex': 3, 'tileType': 'PASTURES', 'tileNumber': 9}, {'tileID': 100, 'tileIndex': 4, 'tileType': 'FOREST', 'tileNumber': 10}, {'tileID': 101, 'tileIndex': 5, 'tileType': 'HILLS', 'tileNumber': 6}, {'tileID': 102, 'tileIndex': 6, 'tileType': 'HILLS', 'tileNumber': 8}, {'tileID': 103, 'tileIndex': 7, 'tileType': 'HILLS', 'tileNumber': 2}, {'tileID': 104, 'tileIndex': 8, 'tileType': 'FOREST', 'tileNumber': 3}, {'tileID': 105, 'tileIndex': 9, 'tileType': 'DESERT', 'tileNumber': 0}, {'tileID': 106, 'tileIndex': 10, 'tileType': 'FOREST', 'tileNumber': 3}, {'tileID': 107, 'tileIndex': 11, 'tileType': 'MOUNTAINS', 'tileNumber': 5}, {'tileID': 108, 'tileIndex': 12, 'tileType': 'FIELDS', 'tileNumber': 11}, {'tileID': 109, 'tileIndex': 13, 'tileType': 'MOUNTAINS', 'tileNumber': 4}, {'tileID': 110, 'tileIndex': 14, 'tileType': 'FIELDS', 'tileNumber': 10}, {'tileID': 111, 'tileIndex': 15, 'tileType': 'FIELDS', 'tileNumber': 6}, {'tileID': 112, 'tileIndex': 16, 'tileType': 'FIELDS', 'tileNumber': 11}, {'tileID': 113, 'tileIndex': 17, 'tileType': 'PASTURES', 'tileNumber': 4}, {'tileID': 114, 'tileIndex': 18, 'tileType': 'PASTURES', 'tileNumber': 5}], 'player1Roads': [{'roadID': 42, 'edgeIndex': 45, 'playerNo': 1}], 'player2Roads': [{'roadID': 43, 'edgeIndex': 32, 'playerNo': 2}], 'player3Roads': [{'roadID': 44, 'edgeIndex': 18, 'playerNo': 3}], 'player4Roads': [{'roadID': 45, 'edgeIndex': 70, 'playerNo': 4}], 'player1Settlements': [{'settlementID': 27, 'nodeIndex': 36, 'playerNo': 1, 'settlementLevel': 1}], 'player2Settlements': [{'settlementID': 28, 'nodeIndex': 20, 'playerNo': 2, 'settlementLevel': 1}], 'player3Settlements': [{'settlementID': 29, 'nodeIndex': 11, 'playerNo': 3, 'settlementLevel': 1}], 'player4Settlements': [{'settlementID': 30, 'nodeIndex': 53, 'playerNo': 4, 'settlementLevel': 1}], 'forbiddenNodeIndices': [36, 7, 41, 11, 15, 16, 49, 50, 20, 53, 25, 26, 30, 31]}, 'player1': {'playerID': 3, 'username': 'testuser', 'email': 'testuser@example.com', 'password': '5e884898da28047151d0e56f8dc6292773603d0d6aabbdd62a11ef721d1542d8', 'sessionKey': '63199d9a-6518-4f36-9335-2fc04ce06f75', 'resetKey': None}, 'player2': None, 'player3': None, 'player4': None, 'player1Score': 1, 'player2Score': 1, 'player3Score': 1, 'player4Score': 1, 'turn': 1, 'gameType': 'SinglePlayer', 'currentDice1': None, 'currentDice2': None, 'playerCardDeckList': [{'deckID': 21, 'cards': [{'cardID': 101, 'cardType': 'BRICK', 'cardCount': 3}, {'cardID': 102, 'cardType': 'LUMBER', 'cardCount': 4}, {'cardID': 103, 'cardType': 'ORE', 'cardCount': 0}, {'cardID': 104, 'cardType': 'GRAIN', 'cardCount': 3}, {'cardID': 105, 'cardType': 'WOOL', 'cardCount': 1}], 'resourceCounts': {'WOOL': 1, 'GRAIN': 3, 'BRICK': 3, 'LUMBER': 4, 'ORE': 0}}, {'deckID': 22, 'cards': [{'cardID': 106, 'cardType': 'BRICK', 'cardCount': 4}, {'cardID': 107, 'cardType': 'LUMBER', 'cardCount': 3}, {'cardID': 108, 'cardType': 'ORE', 'cardCount': 1}, {'cardID': 109, 'cardType': 'GRAIN', 'cardCount': 1}, {'cardID': 110, 'cardType': 'WOOL', 'cardCount': 1}], 'resourceCounts': {'WOOL': 1, 'GRAIN': 1, 'BRICK': 4, 'LUMBER': 3, 'ORE': 1}}, {'deckID': 23, 'cards': [{'cardID': 111, 'cardType': 'BRICK', 'cardCount': 3}, {'cardID': 112, 'cardType': 'LUMBER', 'cardCount': 3}, {'cardID': 113, 'cardType': 'ORE', 'cardCount': 0}, {'cardID': 114, 'cardType': 'GRAIN', 'cardCount': 1}, {'cardID': 115, 'cardType': 'WOOL', 'cardCount': 2}], 'resourceCounts': {'WOOL': 2, 'GRAIN': 1, 'BRICK': 3, 'LUMBER': 3, 'ORE': 0}}, {'deckID': 24, 'cards': [{'cardID': 116, 'cardType': 'BRICK', 'cardCount': 3}, {'cardID': 117, 'cardType': 'LUMBER', 'cardCount': 3}, {'cardID': 118, 'cardType': 'ORE', 'cardCount': 0}, {'cardID': 119, 'cardType': 'GRAIN', 'cardCount': 1}, {'cardID': 120, 'cardType': 'WOOL', 'cardCount': 2}], 'resourceCounts': {'WOOL': 2, 'GRAIN': 1, 'BRICK': 3, 'LUMBER': 3, 'ORE': 0}}], 'currentLongestRoadLength': 0, 'currentLongestRoadOwnerPlayerNo': 0, 'diceRolled': False}\n"
     ]
    }
   ],
   "source": [
    "try:\n",
    "    game = join_existing_game(\"http://localhost:8080\", \"testuser\")\n",
    "    game_id = game['gameID']\n",
    "    print(f\"Game ID: {game_id}\")\n",
    "    print(game)\n",
    "except Exception as e:\n",
    "    print(str(e))"
   ]
  },
  {
   "cell_type": "code",
   "execution_count": 254,
   "metadata": {},
   "outputs": [
    {
     "name": "stdout",
     "output_type": "stream",
     "text": [
      "Game ID: 3\n",
      "True\n"
     ]
    }
   ],
   "source": [
    "# Delete game\n",
    "try:\n",
    "    print(f\"Game ID: {game_id}\")\n",
    "    result = delete_game(\"http://localhost:8080\", game_id)\n",
    "    print(result)\n",
    "except Exception as e:\n",
    "    print(str(e))"
   ]
  },
  {
   "cell_type": "code",
   "execution_count": 256,
   "metadata": {},
   "outputs": [
    {
     "name": "stdout",
     "output_type": "stream",
     "text": [
      "Game ID: 3\n",
      "Game not found\n"
     ]
    }
   ],
   "source": [
    "# Roll the dice\n",
    "print(f\"Game ID: {game_id}\")\n",
    "try:\n",
    "    game = player_move(\"http://localhost:8080\", game_id, \"rollDice\", 0, 1)\n",
    "    print(game)\n",
    "except Exception as e:\n",
    "    print(str(e))"
   ]
  },
  {
   "cell_type": "code",
   "execution_count": 249,
   "metadata": {},
   "outputs": [
    {
     "name": "stdout",
     "output_type": "stream",
     "text": [
      "It's not the player's turn\n"
     ]
    }
   ],
   "source": [
    "# Add a settlement\n",
    "try:\n",
    "    game = player_move(\"http://localhost:8080\", game_id, \"addSettlement\", 0, 1)\n",
    "    print(game)\n",
    "except Exception as e:\n",
    "    print(str(e))"
   ]
  },
  {
   "cell_type": "code",
   "execution_count": null,
   "metadata": {},
   "outputs": [],
   "source": [
    "# Add a road\n",
    "try:\n",
    "    game = player_move(\"http://localhost:8080\", game_id, \"addRoad\", 0, 1)\n",
    "    print(game)\n",
    "except Exception as e:\n",
    "    print(str(e))"
   ]
  },
  {
   "cell_type": "code",
   "execution_count": null,
   "metadata": {},
   "outputs": [],
   "source": [
    "# Upgrade a settlement\n",
    "try:\n",
    "    game = player_move(\"http://localhost:8080\", game_id, \"upgradeSettlement\", 0, 1)\n",
    "    print(game)\n",
    "except Exception as e:\n",
    "    print(str(e))"
   ]
  },
  {
   "cell_type": "code",
   "execution_count": 248,
   "metadata": {},
   "outputs": [
    {
     "name": "stdout",
     "output_type": "stream",
     "text": [
      "{'gameID': 3, 'gameboard': {'id': 3, 'settlements': [{'settlementID': 11, 'nodeIndex': 38, 'playerNo': 1, 'settlementLevel': 1}, {'settlementID': 12, 'nodeIndex': 10, 'playerNo': 2, 'settlementLevel': 1}, {'settlementID': 13, 'nodeIndex': 26, 'playerNo': 3, 'settlementLevel': 1}, {'settlementID': 14, 'nodeIndex': 47, 'playerNo': 4, 'settlementLevel': 1}], 'roads': [{'roadID': 18, 'edgeIndex': 49, 'playerNo': 1}, {'roadID': 19, 'edgeIndex': 9, 'playerNo': 2}, {'roadID': 20, 'edgeIndex': 32, 'playerNo': 3}, {'roadID': 21, 'edgeIndex': 62, 'playerNo': 4}], 'tiles': [{'tileID': 39, 'tileIndex': 0, 'tileType': 'PASTURES', 'tileNumber': 5}, {'tileID': 40, 'tileIndex': 1, 'tileType': 'FOREST', 'tileNumber': 8}, {'tileID': 41, 'tileIndex': 2, 'tileType': 'FOREST', 'tileNumber': 2}, {'tileID': 42, 'tileIndex': 3, 'tileType': 'FOREST', 'tileNumber': 4}, {'tileID': 43, 'tileIndex': 4, 'tileType': 'FIELDS', 'tileNumber': 8}, {'tileID': 44, 'tileIndex': 5, 'tileType': 'PASTURES', 'tileNumber': 4}, {'tileID': 45, 'tileIndex': 6, 'tileType': 'PASTURES', 'tileNumber': 12}, {'tileID': 46, 'tileIndex': 7, 'tileType': 'MOUNTAINS', 'tileNumber': 3}, {'tileID': 47, 'tileIndex': 8, 'tileType': 'MOUNTAINS', 'tileNumber': 5}, {'tileID': 48, 'tileIndex': 9, 'tileType': 'DESERT', 'tileNumber': 0}, {'tileID': 49, 'tileIndex': 10, 'tileType': 'MOUNTAINS', 'tileNumber': 3}, {'tileID': 50, 'tileIndex': 11, 'tileType': 'PASTURES', 'tileNumber': 9}, {'tileID': 51, 'tileIndex': 12, 'tileType': 'HILLS', 'tileNumber': 6}, {'tileID': 52, 'tileIndex': 13, 'tileType': 'FIELDS', 'tileNumber': 6}, {'tileID': 53, 'tileIndex': 14, 'tileType': 'MOUNTAINS', 'tileNumber': 9}, {'tileID': 54, 'tileIndex': 15, 'tileType': 'FIELDS', 'tileNumber': 10}, {'tileID': 55, 'tileIndex': 16, 'tileType': 'FIELDS', 'tileNumber': 11}, {'tileID': 56, 'tileIndex': 17, 'tileType': 'HILLS', 'tileNumber': 10}, {'tileID': 57, 'tileIndex': 18, 'tileType': 'HILLS', 'tileNumber': 11}], 'player1Roads': [{'roadID': 18, 'edgeIndex': 49, 'playerNo': 1}], 'player2Roads': [{'roadID': 19, 'edgeIndex': 9, 'playerNo': 2}], 'player3Roads': [{'roadID': 20, 'edgeIndex': 32, 'playerNo': 3}], 'player4Roads': [{'roadID': 21, 'edgeIndex': 62, 'playerNo': 4}], 'player1Settlements': [{'settlementID': 11, 'nodeIndex': 38, 'playerNo': 1, 'settlementLevel': 1}], 'player2Settlements': [{'settlementID': 12, 'nodeIndex': 10, 'playerNo': 2, 'settlementLevel': 1}], 'player3Settlements': [{'settlementID': 13, 'nodeIndex': 26, 'playerNo': 3, 'settlementLevel': 1}], 'player4Settlements': [{'settlementID': 14, 'nodeIndex': 47, 'playerNo': 4, 'settlementLevel': 1}], 'forbiddenNodeIndices': [32, 33, 38, 6, 10, 43, 14, 15, 47, 51, 20, 26]}, 'player1': {'playerID': 3, 'username': 'testuser', 'email': 'testuser@example.com', 'password': '5e884898da28047151d0e56f8dc6292773603d0d6aabbdd62a11ef721d1542d8', 'sessionKey': 'ec106680-efdb-42d4-ae80-8c7ce8594299', 'resetKey': None}, 'player2': None, 'player3': None, 'player4': None, 'player1Score': 1, 'player2Score': 1, 'player3Score': 1, 'player4Score': 1, 'turn': 2, 'gameType': 'SinglePlayer', 'currentDice1': 6, 'currentDice2': 3, 'playerCardDeckList': [{'deckID': 9, 'cards': [{'cardID': 41, 'cardType': 'BRICK', 'cardCount': 4}, {'cardID': 42, 'cardType': 'LUMBER', 'cardCount': 3}, {'cardID': 43, 'cardType': 'ORE', 'cardCount': 0}, {'cardID': 44, 'cardType': 'GRAIN', 'cardCount': 1}, {'cardID': 45, 'cardType': 'WOOL', 'cardCount': 1}], 'resourceCounts': {'WOOL': 1, 'LUMBER': 3, 'GRAIN': 1, 'BRICK': 4, 'ORE': 0}}, {'deckID': 10, 'cards': [{'cardID': 46, 'cardType': 'BRICK', 'cardCount': 3}, {'cardID': 47, 'cardType': 'LUMBER', 'cardCount': 4}, {'cardID': 48, 'cardType': 'ORE', 'cardCount': 0}, {'cardID': 49, 'cardType': 'GRAIN', 'cardCount': 1}, {'cardID': 50, 'cardType': 'WOOL', 'cardCount': 2}], 'resourceCounts': {'WOOL': 2, 'LUMBER': 4, 'GRAIN': 1, 'BRICK': 3, 'ORE': 0}}, {'deckID': 11, 'cards': [{'cardID': 51, 'cardType': 'BRICK', 'cardCount': 3}, {'cardID': 52, 'cardType': 'LUMBER', 'cardCount': 3}, {'cardID': 53, 'cardType': 'ORE', 'cardCount': 0}, {'cardID': 54, 'cardType': 'GRAIN', 'cardCount': 1}, {'cardID': 55, 'cardType': 'WOOL', 'cardCount': 3}], 'resourceCounts': {'WOOL': 3, 'LUMBER': 3, 'GRAIN': 1, 'BRICK': 3, 'ORE': 0}}, {'deckID': 12, 'cards': [{'cardID': 56, 'cardType': 'BRICK', 'cardCount': 3}, {'cardID': 57, 'cardType': 'LUMBER', 'cardCount': 3}, {'cardID': 58, 'cardType': 'ORE', 'cardCount': 0}, {'cardID': 59, 'cardType': 'GRAIN', 'cardCount': 2}, {'cardID': 60, 'cardType': 'WOOL', 'cardCount': 1}], 'resourceCounts': {'WOOL': 1, 'LUMBER': 3, 'GRAIN': 2, 'BRICK': 3, 'ORE': 0}}], 'currentLongestRoadLength': 1, 'currentLongestRoadOwnerPlayerNo': 1, 'diceRolled': False}\n"
     ]
    }
   ],
   "source": [
    "# End the turn\n",
    "try:\n",
    "    game = player_move(\"http://localhost:8080\", game_id, \"endTurn\", 0, 1)\n",
    "    print(game)\n",
    "except Exception as e:\n",
    "    print(str(e))"
   ]
  },
  {
   "cell_type": "code",
   "execution_count": 181,
   "metadata": {},
   "outputs": [
    {
     "name": "stdout",
     "output_type": "stream",
     "text": [
      "Game ID: 36\n"
     ]
    }
   ],
   "source": [
    "print_game_id(game)"
   ]
  },
  {
   "cell_type": "code",
   "execution_count": 225,
   "metadata": {},
   "outputs": [
    {
     "name": "stdout",
     "output_type": "stream",
     "text": [
      "Player 1 Resources:\n",
      "BRICK: 5\n",
      "LUMBER: 3\n",
      "ORE: 0\n",
      "GRAIN: 2\n",
      "WOOL: 1\n"
     ]
    }
   ],
   "source": [
    "print_player_resources(game,1)"
   ]
  },
  {
   "cell_type": "code",
   "execution_count": 228,
   "metadata": {},
   "outputs": [
    {
     "name": "stdout",
     "output_type": "stream",
     "text": [
      "Settlement ID: 9, Node Index: 36, Player No: 1, Settlement Level: 1\n",
      "Settlement ID: 10, Node Index: 1, Player No: 2, Settlement Level: 1\n",
      "Settlement ID: 11, Node Index: 6, Player No: 3, Settlement Level: 1\n",
      "Settlement ID: 12, Node Index: 49, Player No: 4, Settlement Level: 1\n"
     ]
    }
   ],
   "source": [
    "print_settlements(game)"
   ]
  },
  {
   "cell_type": "code",
   "execution_count": 229,
   "metadata": {},
   "outputs": [
    {
     "name": "stdout",
     "output_type": "stream",
     "text": [
      "Road ID: 12, Edge Index: 45, Player No: 1\n",
      "Road ID: 13, Edge Index: 3, Player No: 2\n",
      "Road ID: 14, Edge Index: 9, Player No: 3\n",
      "Road ID: 15, Edge Index: 70, Player No: 4\n"
     ]
    }
   ],
   "source": [
    "print_roads(game)"
   ]
  },
  {
   "cell_type": "code",
   "execution_count": 230,
   "metadata": {},
   "outputs": [
    {
     "name": "stdout",
     "output_type": "stream",
     "text": [
      "Tile ID: 39, Tile Index: 0, Tile Type: FIELDS, Tile Number: 2\n",
      "Tile ID: 40, Tile Index: 1, Tile Type: MOUNTAINS, Tile Number: 12\n",
      "Tile ID: 41, Tile Index: 2, Tile Type: FOREST, Tile Number: 6\n",
      "Tile ID: 42, Tile Index: 3, Tile Type: PASTURES, Tile Number: 11\n",
      "Tile ID: 43, Tile Index: 4, Tile Type: FOREST, Tile Number: 8\n",
      "Tile ID: 44, Tile Index: 5, Tile Type: PASTURES, Tile Number: 8\n",
      "Tile ID: 45, Tile Index: 6, Tile Type: MOUNTAINS, Tile Number: 3\n",
      "Tile ID: 46, Tile Index: 7, Tile Type: FIELDS, Tile Number: 11\n",
      "Tile ID: 47, Tile Index: 8, Tile Type: FIELDS, Tile Number: 9\n",
      "Tile ID: 48, Tile Index: 9, Tile Type: DESERT, Tile Number: 0\n",
      "Tile ID: 49, Tile Index: 10, Tile Type: FIELDS, Tile Number: 3\n",
      "Tile ID: 50, Tile Index: 11, Tile Type: MOUNTAINS, Tile Number: 9\n",
      "Tile ID: 51, Tile Index: 12, Tile Type: PASTURES, Tile Number: 10\n",
      "Tile ID: 52, Tile Index: 13, Tile Type: PASTURES, Tile Number: 4\n",
      "Tile ID: 53, Tile Index: 14, Tile Type: HILLS, Tile Number: 6\n",
      "Tile ID: 54, Tile Index: 15, Tile Type: HILLS, Tile Number: 4\n",
      "Tile ID: 55, Tile Index: 16, Tile Type: HILLS, Tile Number: 10\n",
      "Tile ID: 56, Tile Index: 17, Tile Type: FOREST, Tile Number: 5\n",
      "Tile ID: 57, Tile Index: 18, Tile Type: MOUNTAINS, Tile Number: 5\n"
     ]
    }
   ],
   "source": [
    "print_tiles(game)"
   ]
  },
  {
   "cell_type": "code",
   "execution_count": 231,
   "metadata": {},
   "outputs": [
    {
     "name": "stdout",
     "output_type": "stream",
     "text": [
      "Player 1 ID: 3, Username: testuser, Email: testuser@example.com\n"
     ]
    }
   ],
   "source": [
    "print_player_info(game, 1)"
   ]
  },
  {
   "cell_type": "code",
   "execution_count": 232,
   "metadata": {},
   "outputs": [
    {
     "name": "stdout",
     "output_type": "stream",
     "text": [
      "Player 1 Score: 1\n"
     ]
    }
   ],
   "source": [
    "print_player_score(game, 1)"
   ]
  }
 ],
 "metadata": {
  "kernelspec": {
   "display_name": "Python 3",
   "language": "python",
   "name": "python3"
  },
  "language_info": {
   "codemirror_mode": {
    "name": "ipython",
    "version": 3
   },
   "file_extension": ".py",
   "mimetype": "text/x-python",
   "name": "python",
   "nbconvert_exporter": "python",
   "pygments_lexer": "ipython3",
   "version": "3.10.13"
  }
 },
 "nbformat": 4,
 "nbformat_minor": 2
}
